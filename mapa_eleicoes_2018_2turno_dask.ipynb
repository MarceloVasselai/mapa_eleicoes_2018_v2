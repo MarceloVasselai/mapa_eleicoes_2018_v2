{
 "cells": [
  {
   "cell_type": "markdown",
   "id": "cddf5169",
   "metadata": {},
   "source": [
    "# Mapa do resultado do 2º Turno das Eleições Presidencias de 2018 por Município - DASK"
   ]
  },
  {
   "cell_type": "code",
   "execution_count": 2,
   "id": "603419ab",
   "metadata": {},
   "outputs": [],
   "source": [
    "# Importando as bibliotecas\n",
    "%matplotlib inline\n",
    "import matplotlib.pyplot as plt\n",
    "import geopandas as gpd\n",
    "#import dask\n",
    "import dask.dataframe as dd"
   ]
  },
  {
   "cell_type": "code",
   "execution_count": null,
   "id": "d80b1ada",
   "metadata": {},
   "outputs": [],
   "source": [
    "# Caminho para o arquivo Shapefile \n",
    "caminho_shapefile = r'D:\\Usuários\\Downloads\\br_municipios\\BRMUE250GC_SIR.shp'\n",
    "\n",
    "# Ler o Shapefile\n",
    "df_mapa = gpd.read_file(caminho_shapefile)\n",
    "\n",
    "# Exibir as primeiras linhas\n",
    "df_mapa.head()\n"
   ]
  },
  {
   "cell_type": "code",
   "execution_count": null,
   "id": "1cc4355c",
   "metadata": {},
   "outputs": [],
   "source": [
    "# Verificando tamanho e colunas\n",
    "df_mapa.info()"
   ]
  },
  {
   "cell_type": "code",
   "execution_count": null,
   "id": "e1fce5ab",
   "metadata": {},
   "outputs": [],
   "source": [
    "# Vamos exibir o mapa (plotar o shapefile)\n",
    "df_mapa.plot()"
   ]
  },
  {
   "cell_type": "code",
   "execution_count": null,
   "id": "ad4362cd",
   "metadata": {},
   "outputs": [],
   "source": [
    "# Vamos expandir o espaço para desenhar o mapa\n",
    "fig, ax = plt.subplots(1, figsize=(12,12))\n",
    "\n",
    "# desenhar o mapa\n",
    "df_mapa.plot(ax=ax)\n",
    "\n",
    "# tirar os eixos\n",
    "ax.set_axis_off()\n",
    "\n",
    "plt.show()"
   ]
  },
  {
   "cell_type": "code",
   "execution_count": null,
   "id": "78d9f98e",
   "metadata": {},
   "outputs": [],
   "source": [
    "# Vamos carregar o arquivo com o resultado da eleição no Brasil dividido por municipio/zona via DASK\n",
    "# Configuração do Dask\n",
    "#dask.config.set({'dataframe.query-planning': True})\n",
    "\n",
    "colunas = ['CD_MUNICIPIO', 'SG_UF', 'NM_MUNICIPIO', 'NR_CANDIDATO', 'NM_URNA_CANDIDATO', 'QT_VOTOS_NOMINAIS', 'NR_TURNO']\n",
    "\n",
    "# Leitura do arquivo CSV\n",
    "df_votacao2 = dd.read_csv(\n",
    "    \"D:\\\\Usuários\\\\Downloads\\\\votacao_candidato_munzona_2018_BRASIL.csv\",\n",
    "    sep=\";\",\n",
    "    names=colunas,\n",
    "    header=0,\n",
    "    encoding='latin1'\n",
    ")"
   ]
  },
  {
   "cell_type": "code",
   "execution_count": 3,
   "id": "71e346be",
   "metadata": {},
   "outputs": [],
   "source": [
    "ddf = dd.read_csv(\"D:\\\\Usuários\\\\Downloads\\\\votacao_candidato_munzona_2018_BRASIL.csv\", \n",
    "                  delimiter=';', \n",
    "                  header=0,\n",
    "                  encoding='latin1', \n",
    "                  dtype={'CD_MUNICIPIO': 'int', 'SG_UF': 'str','NM_MUNICIPIO': 'str','NR_CANDIDATO': 'int','NM_URNA_CANDIDATO': 'str','QT_VOTOS_NOMINAIS': 'int','NR_TURNO': 'int'},\n",
    "                  usecols=['CD_MUNICIPIO', 'SG_UF', 'NM_MUNICIPIO', 'NR_CANDIDATO', 'NM_URNA_CANDIDATO', 'QT_VOTOS_NOMINAIS', 'NR_TURNO'])"
   ]
  },
  {
   "cell_type": "code",
   "execution_count": 4,
   "id": "4b4928a3",
   "metadata": {},
   "outputs": [
    {
     "data": {
      "text/html": [
       "<div>\n",
       "<style scoped>\n",
       "    .dataframe tbody tr th:only-of-type {\n",
       "        vertical-align: middle;\n",
       "    }\n",
       "\n",
       "    .dataframe tbody tr th {\n",
       "        vertical-align: top;\n",
       "    }\n",
       "\n",
       "    .dataframe thead th {\n",
       "        text-align: right;\n",
       "    }\n",
       "</style>\n",
       "<table border=\"1\" class=\"dataframe\">\n",
       "  <thead>\n",
       "    <tr style=\"text-align: right;\">\n",
       "      <th></th>\n",
       "      <th>NR_TURNO</th>\n",
       "      <th>SG_UF</th>\n",
       "      <th>CD_MUNICIPIO</th>\n",
       "      <th>NM_MUNICIPIO</th>\n",
       "      <th>NR_CANDIDATO</th>\n",
       "      <th>NM_URNA_CANDIDATO</th>\n",
       "      <th>QT_VOTOS_NOMINAIS</th>\n",
       "    </tr>\n",
       "  </thead>\n",
       "  <tbody>\n",
       "    <tr>\n",
       "      <th>0</th>\n",
       "      <td>1</td>\n",
       "      <td>SP</td>\n",
       "      <td>71072</td>\n",
       "      <td>SÃO PAULO</td>\n",
       "      <td>7777</td>\n",
       "      <td>PAULINHO DA FORÇA</td>\n",
       "      <td>67</td>\n",
       "    </tr>\n",
       "    <tr>\n",
       "      <th>1</th>\n",
       "      <td>1</td>\n",
       "      <td>SP</td>\n",
       "      <td>66397</td>\n",
       "      <td>LIMEIRA</td>\n",
       "      <td>7777</td>\n",
       "      <td>PAULINHO DA FORÇA</td>\n",
       "      <td>15</td>\n",
       "    </tr>\n",
       "    <tr>\n",
       "      <th>2</th>\n",
       "      <td>1</td>\n",
       "      <td>SP</td>\n",
       "      <td>71072</td>\n",
       "      <td>SÃO PAULO</td>\n",
       "      <td>7777</td>\n",
       "      <td>PAULINHO DA FORÇA</td>\n",
       "      <td>215</td>\n",
       "    </tr>\n",
       "    <tr>\n",
       "      <th>3</th>\n",
       "      <td>1</td>\n",
       "      <td>SP</td>\n",
       "      <td>61018</td>\n",
       "      <td>ADAMANTINA</td>\n",
       "      <td>7777</td>\n",
       "      <td>PAULINHO DA FORÇA</td>\n",
       "      <td>12</td>\n",
       "    </tr>\n",
       "    <tr>\n",
       "      <th>4</th>\n",
       "      <td>1</td>\n",
       "      <td>SP</td>\n",
       "      <td>69752</td>\n",
       "      <td>RINCÃO</td>\n",
       "      <td>7777</td>\n",
       "      <td>PAULINHO DA FORÇA</td>\n",
       "      <td>6</td>\n",
       "    </tr>\n",
       "  </tbody>\n",
       "</table>\n",
       "</div>"
      ],
      "text/plain": [
       "   NR_TURNO SG_UF  CD_MUNICIPIO NM_MUNICIPIO  NR_CANDIDATO  NM_URNA_CANDIDATO  \\\n",
       "0         1    SP         71072    SÃO PAULO          7777  PAULINHO DA FORÇA   \n",
       "1         1    SP         66397      LIMEIRA          7777  PAULINHO DA FORÇA   \n",
       "2         1    SP         71072    SÃO PAULO          7777  PAULINHO DA FORÇA   \n",
       "3         1    SP         61018   ADAMANTINA          7777  PAULINHO DA FORÇA   \n",
       "4         1    SP         69752       RINCÃO          7777  PAULINHO DA FORÇA   \n",
       "\n",
       "   QT_VOTOS_NOMINAIS  \n",
       "0                 67  \n",
       "1                 15  \n",
       "2                215  \n",
       "3                 12  \n",
       "4                  6  "
      ]
     },
     "execution_count": 4,
     "metadata": {},
     "output_type": "execute_result"
    }
   ],
   "source": [
    "ddf.head()"
   ]
  },
  {
   "cell_type": "code",
   "execution_count": 5,
   "id": "35068eca",
   "metadata": {},
   "outputs": [
    {
     "name": "stdout",
     "output_type": "stream",
     "text": [
      "<class 'dask.dataframe.dask_expr.DataFrame'>\n",
      "Columns: 7 entries, NR_TURNO to QT_VOTOS_NOMINAIS\n",
      "dtypes: int64(4), string(3)"
     ]
    }
   ],
   "source": [
    "ddf.info()"
   ]
  },
  {
   "cell_type": "code",
   "execution_count": 6,
   "id": "6f8e7229",
   "metadata": {},
   "outputs": [
    {
     "data": {
      "text/html": [
       "<div>\n",
       "<style scoped>\n",
       "    .dataframe tbody tr th:only-of-type {\n",
       "        vertical-align: middle;\n",
       "    }\n",
       "\n",
       "    .dataframe tbody tr th {\n",
       "        vertical-align: top;\n",
       "    }\n",
       "\n",
       "    .dataframe thead th {\n",
       "        text-align: right;\n",
       "    }\n",
       "</style>\n",
       "<table border=\"1\" class=\"dataframe\">\n",
       "  <thead>\n",
       "    <tr style=\"text-align: right;\">\n",
       "      <th></th>\n",
       "      <th>NR_TURNO</th>\n",
       "      <th>SG_UF</th>\n",
       "      <th>CD_MUNICIPIO</th>\n",
       "      <th>NM_MUNICIPIO</th>\n",
       "      <th>NR_CANDIDATO</th>\n",
       "      <th>NM_URNA_CANDIDATO</th>\n",
       "      <th>QT_VOTOS_NOMINAIS</th>\n",
       "    </tr>\n",
       "  </thead>\n",
       "  <tbody>\n",
       "    <tr>\n",
       "      <th>count</th>\n",
       "      <td>8.680108e+06</td>\n",
       "      <td>8680108</td>\n",
       "      <td>8.680108e+06</td>\n",
       "      <td>8680108</td>\n",
       "      <td>8.680108e+06</td>\n",
       "      <td>8680108</td>\n",
       "      <td>8.680108e+06</td>\n",
       "    </tr>\n",
       "    <tr>\n",
       "      <th>mean</th>\n",
       "      <td>1.002215e+00</td>\n",
       "      <td>NaN</td>\n",
       "      <td>5.717015e+04</td>\n",
       "      <td>NaN</td>\n",
       "      <td>2.418818e+04</td>\n",
       "      <td>NaN</td>\n",
       "      <td>8.302794e+01</td>\n",
       "    </tr>\n",
       "    <tr>\n",
       "      <th>std</th>\n",
       "      <td>4.701598e-02</td>\n",
       "      <td>NaN</td>\n",
       "      <td>2.226042e+04</td>\n",
       "      <td>NaN</td>\n",
       "      <td>2.405758e+04</td>\n",
       "      <td>NaN</td>\n",
       "      <td>1.141213e+03</td>\n",
       "    </tr>\n",
       "    <tr>\n",
       "      <th>min</th>\n",
       "      <td>1.000000e+00</td>\n",
       "      <td>NaN</td>\n",
       "      <td>1.900000e+01</td>\n",
       "      <td>NaN</td>\n",
       "      <td>1.100000e+01</td>\n",
       "      <td>NaN</td>\n",
       "      <td>0.000000e+00</td>\n",
       "    </tr>\n",
       "    <tr>\n",
       "      <th>25%</th>\n",
       "      <td>1.000000e+00</td>\n",
       "      <td>NaN</td>\n",
       "      <td>5.219100e+04</td>\n",
       "      <td>NaN</td>\n",
       "      <td>5.474000e+03</td>\n",
       "      <td>NaN</td>\n",
       "      <td>0.000000e+00</td>\n",
       "    </tr>\n",
       "    <tr>\n",
       "      <th>50%</th>\n",
       "      <td>1.000000e+00</td>\n",
       "      <td>NaN</td>\n",
       "      <td>6.633800e+04</td>\n",
       "      <td>NaN</td>\n",
       "      <td>2.200100e+04</td>\n",
       "      <td>NaN</td>\n",
       "      <td>0.000000e+00</td>\n",
       "    </tr>\n",
       "    <tr>\n",
       "      <th>75%</th>\n",
       "      <td>1.000000e+00</td>\n",
       "      <td>NaN</td>\n",
       "      <td>8.667300e+04</td>\n",
       "      <td>NaN</td>\n",
       "      <td>6.505000e+04</td>\n",
       "      <td>NaN</td>\n",
       "      <td>7.000000e+00</td>\n",
       "    </tr>\n",
       "    <tr>\n",
       "      <th>max</th>\n",
       "      <td>2.000000e+00</td>\n",
       "      <td>NaN</td>\n",
       "      <td>9.943000e+04</td>\n",
       "      <td>NaN</td>\n",
       "      <td>9.099900e+04</td>\n",
       "      <td>NaN</td>\n",
       "      <td>1.206820e+05</td>\n",
       "    </tr>\n",
       "    <tr>\n",
       "      <th>unique</th>\n",
       "      <td>NaN</td>\n",
       "      <td>28</td>\n",
       "      <td>NaN</td>\n",
       "      <td>5425</td>\n",
       "      <td>NaN</td>\n",
       "      <td>24242</td>\n",
       "      <td>NaN</td>\n",
       "    </tr>\n",
       "    <tr>\n",
       "      <th>top</th>\n",
       "      <td>NaN</td>\n",
       "      <td>SP</td>\n",
       "      <td>NaN</td>\n",
       "      <td>SÃO PAULO</td>\n",
       "      <td>NaN</td>\n",
       "      <td>FERNANDO HADDAD</td>\n",
       "      <td>NaN</td>\n",
       "    </tr>\n",
       "    <tr>\n",
       "      <th>freq</th>\n",
       "      <td>NaN</td>\n",
       "      <td>2718638</td>\n",
       "      <td>NaN</td>\n",
       "      <td>202188</td>\n",
       "      <td>NaN</td>\n",
       "      <td>12480</td>\n",
       "      <td>NaN</td>\n",
       "    </tr>\n",
       "  </tbody>\n",
       "</table>\n",
       "</div>"
      ],
      "text/plain": [
       "            NR_TURNO    SG_UF  CD_MUNICIPIO NM_MUNICIPIO  NR_CANDIDATO  \\\n",
       "count   8.680108e+06  8680108  8.680108e+06      8680108  8.680108e+06   \n",
       "mean    1.002215e+00      NaN  5.717015e+04          NaN  2.418818e+04   \n",
       "std     4.701598e-02      NaN  2.226042e+04          NaN  2.405758e+04   \n",
       "min     1.000000e+00      NaN  1.900000e+01          NaN  1.100000e+01   \n",
       "25%     1.000000e+00      NaN  5.219100e+04          NaN  5.474000e+03   \n",
       "50%     1.000000e+00      NaN  6.633800e+04          NaN  2.200100e+04   \n",
       "75%     1.000000e+00      NaN  8.667300e+04          NaN  6.505000e+04   \n",
       "max     2.000000e+00      NaN  9.943000e+04          NaN  9.099900e+04   \n",
       "unique           NaN       28           NaN         5425           NaN   \n",
       "top              NaN       SP           NaN    SÃO PAULO           NaN   \n",
       "freq             NaN  2718638           NaN       202188           NaN   \n",
       "\n",
       "       NM_URNA_CANDIDATO  QT_VOTOS_NOMINAIS  \n",
       "count            8680108       8.680108e+06  \n",
       "mean                 NaN       8.302794e+01  \n",
       "std                  NaN       1.141213e+03  \n",
       "min                  NaN       0.000000e+00  \n",
       "25%                  NaN       0.000000e+00  \n",
       "50%                  NaN       0.000000e+00  \n",
       "75%                  NaN       7.000000e+00  \n",
       "max                  NaN       1.206820e+05  \n",
       "unique             24242                NaN  \n",
       "top      FERNANDO HADDAD                NaN  \n",
       "freq               12480                NaN  "
      ]
     },
     "execution_count": 6,
     "metadata": {},
     "output_type": "execute_result"
    },
    {
     "name": "stderr",
     "output_type": "stream",
     "text": [
      "c:\\Users\\User\\j dados\\mapa_eleicoes_2018_v2\\.venv\\Lib\\site-packages\\dask\\dataframe\\core.py:382: UserWarning: Insufficient elements for `head`. 5 elements requested, only 1 elements available. Try passing larger `npartitions` to `head`.\n",
      "  warnings.warn(\n",
      "c:\\Users\\User\\j dados\\mapa_eleicoes_2018_v2\\.venv\\Lib\\site-packages\\dask\\dataframe\\core.py:382: UserWarning: Insufficient elements for `head`. 3 elements requested, only 0 elements available. Try passing larger `npartitions` to `head`.\n",
      "  warnings.warn(\n",
      "c:\\Users\\User\\j dados\\mapa_eleicoes_2018_v2\\.venv\\Lib\\site-packages\\dask\\dataframe\\core.py:382: UserWarning: Insufficient elements for `head`. 3 elements requested, only 0 elements available. Try passing larger `npartitions` to `head`.\n",
      "  warnings.warn(\n",
      "c:\\Users\\User\\j dados\\mapa_eleicoes_2018_v2\\.venv\\Lib\\site-packages\\dask\\dataframe\\core.py:382: UserWarning: Insufficient elements for `head`. 3 elements requested, only 1 elements available. Try passing larger `npartitions` to `head`.\n",
      "  warnings.warn(\n",
      "c:\\Users\\User\\j dados\\mapa_eleicoes_2018_v2\\.venv\\Lib\\site-packages\\dask\\dataframe\\core.py:382: UserWarning: Insufficient elements for `head`. 3 elements requested, only 1 elements available. Try passing larger `npartitions` to `head`.\n",
      "  warnings.warn(\n",
      "c:\\Users\\User\\j dados\\mapa_eleicoes_2018_v2\\.venv\\Lib\\site-packages\\dask\\dataframe\\core.py:382: UserWarning: Insufficient elements for `head`. 3 elements requested, only 1 elements available. Try passing larger `npartitions` to `head`.\n",
      "  warnings.warn(\n",
      "c:\\Users\\User\\j dados\\mapa_eleicoes_2018_v2\\.venv\\Lib\\site-packages\\dask\\dataframe\\core.py:382: UserWarning: Insufficient elements for `head`. 3 elements requested, only 1 elements available. Try passing larger `npartitions` to `head`.\n",
      "  warnings.warn(\n"
     ]
    }
   ],
   "source": [
    "ddf.describe(include='all').compute()"
   ]
  },
  {
   "cell_type": "code",
   "execution_count": 9,
   "id": "98785683",
   "metadata": {},
   "outputs": [
    {
     "name": "stdout",
     "output_type": "stream",
     "text": [
      "NR_TURNO                       int64\n",
      "SG_UF                string[pyarrow]\n",
      "CD_MUNICIPIO                   int64\n",
      "NM_MUNICIPIO         string[pyarrow]\n",
      "NR_CANDIDATO                   int64\n",
      "NM_URNA_CANDIDATO    string[pyarrow]\n",
      "QT_VOTOS_NOMINAIS              int64\n",
      "dtype: object\n"
     ]
    }
   ],
   "source": [
    "print(ddf.head().dtypes)"
   ]
  },
  {
   "cell_type": "code",
   "execution_count": 12,
   "id": "e93fbfaa",
   "metadata": {},
   "outputs": [
    {
     "name": "stdout",
     "output_type": "stream",
     "text": [
      "         SG_UF  CD_MUNICIPIO     NM_MUNICIPIO  NR_CANDIDATO NM_URNA_CANDIDATO  \\\n",
      "NR_TURNO                                                                        \n",
      "1           MA          7820    LAGOA DO MATO         19789   NILTON CARNEIRO   \n",
      "1           MA          9539  VITORINO FREIRE         19789   NILTON CARNEIRO   \n",
      "1           MA          9350         TIMBIRAS         19789   NILTON CARNEIRO   \n",
      "1           MA          7900   MARAJÁ DO SENA         19789   NILTON CARNEIRO   \n",
      "1           MA          7412           BURITI         19789   NILTON CARNEIRO   \n",
      "\n",
      "          QT_VOTOS_NOMINAIS  \n",
      "NR_TURNO                     \n",
      "1                         0  \n",
      "1                         0  \n",
      "1                         0  \n",
      "1                         0  \n",
      "1                         0  \n"
     ]
    }
   ],
   "source": [
    "#Criando índices\n",
    "ddf_urna = ddf.set_index('NR_TURNO')\n",
    "print(ddf_urna.head())\n"
   ]
  },
  {
   "cell_type": "code",
   "execution_count": 17,
   "id": "892a942b",
   "metadata": {},
   "outputs": [
    {
     "name": "stdout",
     "output_type": "stream",
     "text": [
      "   NR_TURNO SG_UF  CD_MUNICIPIO NM_MUNICIPIO  NR_CANDIDATO  NM_URNA_CANDIDATO  \\\n",
      "2         1    SP         71072    SÃO PAULO          7777  PAULINHO DA FORÇA   \n",
      "\n",
      "   QT_VOTOS_NOMINAIS  \n",
      "2                215  \n"
     ]
    }
   ],
   "source": [
    "filtrado = ddf.loc[2]\n",
    "print(filtrado.head())"
   ]
  },
  {
   "cell_type": "code",
   "execution_count": 18,
   "id": "61e2391f",
   "metadata": {},
   "outputs": [
    {
     "name": "stdout",
     "output_type": "stream",
     "text": [
      "0                    SÃO PAULO\n",
      "1                      LIMEIRA\n",
      "2                    SÃO PAULO\n",
      "3                   ADAMANTINA\n",
      "4                       RINCÃO\n",
      "                  ...         \n",
      "139872         CORONEL PACHECO\n",
      "139873    CONCEIÇÃO DE IPANEMA\n",
      "139874                  ESTIVA\n",
      "139875             TRÊS PONTAS\n",
      "139876            MÁRIO CAMPOS\n",
      "Name: NM_MUNICIPIO, Length: 8680108, dtype: string\n"
     ]
    }
   ],
   "source": [
    "print(ddf['NM_MUNICIPIO'].compute())\n"
   ]
  },
  {
   "cell_type": "code",
   "execution_count": 24,
   "id": "aece69cb",
   "metadata": {},
   "outputs": [
    {
     "name": "stdout",
     "output_type": "stream",
     "text": [
      "   NR_TURNO SG_UF  CD_MUNICIPIO NM_MUNICIPIO  NR_CANDIDATO  NM_URNA_CANDIDATO  \\\n",
      "2         1    SP         71072    SÃO PAULO          7777  PAULINHO DA FORÇA   \n",
      "\n",
      "   QT_VOTOS_NOMINAIS  \n",
      "2                215  \n"
     ]
    }
   ],
   "source": [
    "# Separar os dados pois precisamos apenas dos dados de 2 Turno\n",
    "df_votacao_sep = ddf.loc[2]\n",
    "#df_votacao.sample(3).T #solução com pandas.\n",
    "print(df_votacao_sep.head(3))\n"
   ]
  },
  {
   "cell_type": "code",
   "execution_count": 26,
   "id": "8ebd6607",
   "metadata": {},
   "outputs": [
    {
     "data": {
      "text/plain": [
       "np.int64(5708)"
      ]
     },
     "execution_count": 26,
     "metadata": {},
     "output_type": "execute_result"
    }
   ],
   "source": [
    "# Vamos verificar quantos municipios unicos existem no conjunto de dados\n",
    "# Vamos pegar por codigo do municipio\n",
    "ddf['CD_MUNICIPIO'].nunique().compute()"
   ]
  },
  {
   "cell_type": "code",
   "execution_count": 27,
   "id": "bfea4d96",
   "metadata": {},
   "outputs": [
    {
     "data": {
      "text/html": [
       "<div>\n",
       "<style scoped>\n",
       "    .dataframe tbody tr th:only-of-type {\n",
       "        vertical-align: middle;\n",
       "    }\n",
       "\n",
       "    .dataframe tbody tr th {\n",
       "        vertical-align: top;\n",
       "    }\n",
       "\n",
       "    .dataframe thead th {\n",
       "        text-align: right;\n",
       "    }\n",
       "</style>\n",
       "<table border=\"1\" class=\"dataframe\">\n",
       "  <thead>\n",
       "    <tr style=\"text-align: right;\">\n",
       "      <th></th>\n",
       "      <th>NR_TURNO</th>\n",
       "      <th>SG_UF</th>\n",
       "      <th>CD_MUNICIPIO</th>\n",
       "      <th>NM_MUNICIPIO</th>\n",
       "      <th>NR_CANDIDATO</th>\n",
       "      <th>NM_URNA_CANDIDATO</th>\n",
       "      <th>QT_VOTOS_NOMINAIS</th>\n",
       "    </tr>\n",
       "  </thead>\n",
       "  <tbody>\n",
       "    <tr>\n",
       "      <th>45317</th>\n",
       "      <td>1</td>\n",
       "      <td>ZZ</td>\n",
       "      <td>29319</td>\n",
       "      <td>ARTIGAS</td>\n",
       "      <td>12</td>\n",
       "      <td>CIRO GOMES</td>\n",
       "      <td>23</td>\n",
       "    </tr>\n",
       "    <tr>\n",
       "      <th>45914</th>\n",
       "      <td>1</td>\n",
       "      <td>ZZ</td>\n",
       "      <td>29459</td>\n",
       "      <td>BUDAPESTE</td>\n",
       "      <td>12</td>\n",
       "      <td>CIRO GOMES</td>\n",
       "      <td>31</td>\n",
       "    </tr>\n",
       "    <tr>\n",
       "      <th>45927</th>\n",
       "      <td>1</td>\n",
       "      <td>ZZ</td>\n",
       "      <td>30309</td>\n",
       "      <td>PEDRO JUAN CABALLERO</td>\n",
       "      <td>12</td>\n",
       "      <td>CIRO GOMES</td>\n",
       "      <td>6</td>\n",
       "    </tr>\n",
       "    <tr>\n",
       "      <th>45928</th>\n",
       "      <td>1</td>\n",
       "      <td>ZZ</td>\n",
       "      <td>30392</td>\n",
       "      <td>QUITO</td>\n",
       "      <td>12</td>\n",
       "      <td>CIRO GOMES</td>\n",
       "      <td>46</td>\n",
       "    </tr>\n",
       "    <tr>\n",
       "      <th>46211</th>\n",
       "      <td>1</td>\n",
       "      <td>ZZ</td>\n",
       "      <td>29793</td>\n",
       "      <td>HONG KONG-HONG</td>\n",
       "      <td>12</td>\n",
       "      <td>CIRO GOMES</td>\n",
       "      <td>32</td>\n",
       "    </tr>\n",
       "    <tr>\n",
       "      <th>...</th>\n",
       "      <td>...</td>\n",
       "      <td>...</td>\n",
       "      <td>...</td>\n",
       "      <td>...</td>\n",
       "      <td>...</td>\n",
       "      <td>...</td>\n",
       "      <td>...</td>\n",
       "    </tr>\n",
       "    <tr>\n",
       "      <th>11766</th>\n",
       "      <td>1</td>\n",
       "      <td>ZZ</td>\n",
       "      <td>30279</td>\n",
       "      <td>PARAMARIBO</td>\n",
       "      <td>19</td>\n",
       "      <td>ALVARO DIAS</td>\n",
       "      <td>12</td>\n",
       "    </tr>\n",
       "    <tr>\n",
       "      <th>12343</th>\n",
       "      <td>1</td>\n",
       "      <td>ZZ</td>\n",
       "      <td>29289</td>\n",
       "      <td>AMÃ</td>\n",
       "      <td>19</td>\n",
       "      <td>ALVARO DIAS</td>\n",
       "      <td>6</td>\n",
       "    </tr>\n",
       "    <tr>\n",
       "      <th>12958</th>\n",
       "      <td>1</td>\n",
       "      <td>ZZ</td>\n",
       "      <td>30066</td>\n",
       "      <td>MADRI</td>\n",
       "      <td>19</td>\n",
       "      <td>ALVARO DIAS</td>\n",
       "      <td>59</td>\n",
       "    </tr>\n",
       "    <tr>\n",
       "      <th>12963</th>\n",
       "      <td>1</td>\n",
       "      <td>ZZ</td>\n",
       "      <td>29599</td>\n",
       "      <td>COPENHAGUE-DINA</td>\n",
       "      <td>19</td>\n",
       "      <td>ALVARO DIAS</td>\n",
       "      <td>5</td>\n",
       "    </tr>\n",
       "    <tr>\n",
       "      <th>12964</th>\n",
       "      <td>1</td>\n",
       "      <td>ZZ</td>\n",
       "      <td>29661</td>\n",
       "      <td>DUBLIN</td>\n",
       "      <td>19</td>\n",
       "      <td>ALVARO DIAS</td>\n",
       "      <td>7</td>\n",
       "    </tr>\n",
       "  </tbody>\n",
       "</table>\n",
       "<p>2070 rows × 7 columns</p>\n",
       "</div>"
      ],
      "text/plain": [
       "       NR_TURNO SG_UF  CD_MUNICIPIO          NM_MUNICIPIO  NR_CANDIDATO  \\\n",
       "45317         1    ZZ         29319               ARTIGAS            12   \n",
       "45914         1    ZZ         29459             BUDAPESTE            12   \n",
       "45927         1    ZZ         30309  PEDRO JUAN CABALLERO            12   \n",
       "45928         1    ZZ         30392                 QUITO            12   \n",
       "46211         1    ZZ         29793        HONG KONG-HONG            12   \n",
       "...         ...   ...           ...                   ...           ...   \n",
       "11766         1    ZZ         30279            PARAMARIBO            19   \n",
       "12343         1    ZZ         29289                   AMÃ            19   \n",
       "12958         1    ZZ         30066                 MADRI            19   \n",
       "12963         1    ZZ         29599       COPENHAGUE-DINA            19   \n",
       "12964         1    ZZ         29661                DUBLIN            19   \n",
       "\n",
       "      NM_URNA_CANDIDATO  QT_VOTOS_NOMINAIS  \n",
       "45317        CIRO GOMES                 23  \n",
       "45914        CIRO GOMES                 31  \n",
       "45927        CIRO GOMES                  6  \n",
       "45928        CIRO GOMES                 46  \n",
       "46211        CIRO GOMES                 32  \n",
       "...                 ...                ...  \n",
       "11766       ALVARO DIAS                 12  \n",
       "12343       ALVARO DIAS                  6  \n",
       "12958       ALVARO DIAS                 59  \n",
       "12963       ALVARO DIAS                  5  \n",
       "12964       ALVARO DIAS                  7  \n",
       "\n",
       "[2070 rows x 7 columns]"
      ]
     },
     "execution_count": 27,
     "metadata": {},
     "output_type": "execute_result"
    }
   ],
   "source": [
    "# Mas o Brasil tem 5570 municipios\n",
    "# Vamos verificar algumas cidades fora do Brasil\n",
    "#df_votacao[df_votacao['SG_UF'] == 'ZZ'].sample(4).T  ##solução com pandas\n",
    "ddf[ddf['SG_UF'] == 'ZZ'].compute()"
   ]
  },
  {
   "cell_type": "code",
   "execution_count": 29,
   "id": "cf95f657",
   "metadata": {},
   "outputs": [
    {
     "data": {
      "text/plain": [
       "np.int64(138)"
      ]
     },
     "execution_count": 29,
     "metadata": {},
     "output_type": "execute_result"
    }
   ],
   "source": [
    "# Quantas cidades fora do Brasil estão no conjunto de dados?\n",
    "ddf[ddf['SG_UF'] == 'ZZ']['CD_MUNICIPIO'].nunique().compute()"
   ]
  },
  {
   "cell_type": "code",
   "execution_count": 30,
   "id": "41d1121a",
   "metadata": {},
   "outputs": [],
   "source": [
    "# Vamos eliminar os municipios de fora do Brasil\n",
    "df_votacao = ddf[ddf['SG_UF'] != 'ZZ'].compute()"
   ]
  },
  {
   "cell_type": "code",
   "execution_count": null,
   "id": "3f91bcae",
   "metadata": {},
   "outputs": [
    {
     "data": {
      "text/plain": [
       "5570"
      ]
     },
     "execution_count": 31,
     "metadata": {},
     "output_type": "execute_result"
    }
   ],
   "source": [
    "# Verificando a quantidade de municipios --> Agora sim temos 5.570 municípios.\n",
    "df_votacao['CD_MUNICIPIO'].nunique()"
   ]
  },
  {
   "cell_type": "code",
   "execution_count": 33,
   "id": "9808da1a",
   "metadata": {},
   "outputs": [
    {
     "data": {
      "text/html": [
       "<div>\n",
       "<style scoped>\n",
       "    .dataframe tbody tr th:only-of-type {\n",
       "        vertical-align: middle;\n",
       "    }\n",
       "\n",
       "    .dataframe tbody tr th {\n",
       "        vertical-align: top;\n",
       "    }\n",
       "\n",
       "    .dataframe thead th {\n",
       "        text-align: right;\n",
       "    }\n",
       "</style>\n",
       "<table border=\"1\" class=\"dataframe\">\n",
       "  <thead>\n",
       "    <tr style=\"text-align: right;\">\n",
       "      <th></th>\n",
       "      <th>NR_TURNO</th>\n",
       "      <th>SG_UF</th>\n",
       "      <th>CD_MUNICIPIO</th>\n",
       "      <th>NM_MUNICIPIO</th>\n",
       "      <th>NR_CANDIDATO</th>\n",
       "      <th>NM_URNA_CANDIDATO</th>\n",
       "      <th>QT_VOTOS_NOMINAIS</th>\n",
       "    </tr>\n",
       "  </thead>\n",
       "  <tbody>\n",
       "    <tr>\n",
       "      <th>90017</th>\n",
       "      <td>1</td>\n",
       "      <td>MG</td>\n",
       "      <td>41238</td>\n",
       "      <td>BELO HORIZONTE</td>\n",
       "      <td>4307</td>\n",
       "      <td>GUSTAVO RIANI</td>\n",
       "      <td>30</td>\n",
       "    </tr>\n",
       "    <tr>\n",
       "      <th>90026</th>\n",
       "      <td>1</td>\n",
       "      <td>MG</td>\n",
       "      <td>41238</td>\n",
       "      <td>BELO HORIZONTE</td>\n",
       "      <td>4307</td>\n",
       "      <td>GUSTAVO RIANI</td>\n",
       "      <td>36</td>\n",
       "    </tr>\n",
       "    <tr>\n",
       "      <th>90039</th>\n",
       "      <td>1</td>\n",
       "      <td>MG</td>\n",
       "      <td>41238</td>\n",
       "      <td>BELO HORIZONTE</td>\n",
       "      <td>4307</td>\n",
       "      <td>GUSTAVO RIANI</td>\n",
       "      <td>103</td>\n",
       "    </tr>\n",
       "    <tr>\n",
       "      <th>90307</th>\n",
       "      <td>1</td>\n",
       "      <td>MG</td>\n",
       "      <td>41238</td>\n",
       "      <td>BELO HORIZONTE</td>\n",
       "      <td>4307</td>\n",
       "      <td>GUSTAVO RIANI</td>\n",
       "      <td>58</td>\n",
       "    </tr>\n",
       "    <tr>\n",
       "      <th>90313</th>\n",
       "      <td>1</td>\n",
       "      <td>MG</td>\n",
       "      <td>41238</td>\n",
       "      <td>BELO HORIZONTE</td>\n",
       "      <td>4307</td>\n",
       "      <td>GUSTAVO RIANI</td>\n",
       "      <td>37</td>\n",
       "    </tr>\n",
       "    <tr>\n",
       "      <th>...</th>\n",
       "      <td>...</td>\n",
       "      <td>...</td>\n",
       "      <td>...</td>\n",
       "      <td>...</td>\n",
       "      <td>...</td>\n",
       "      <td>...</td>\n",
       "      <td>...</td>\n",
       "    </tr>\n",
       "    <tr>\n",
       "      <th>89795</th>\n",
       "      <td>1</td>\n",
       "      <td>MG</td>\n",
       "      <td>41238</td>\n",
       "      <td>BELO HORIZONTE</td>\n",
       "      <td>540</td>\n",
       "      <td>CORONEL LACERDA</td>\n",
       "      <td>546</td>\n",
       "    </tr>\n",
       "    <tr>\n",
       "      <th>89797</th>\n",
       "      <td>1</td>\n",
       "      <td>MG</td>\n",
       "      <td>41238</td>\n",
       "      <td>BELO HORIZONTE</td>\n",
       "      <td>540</td>\n",
       "      <td>CORONEL LACERDA</td>\n",
       "      <td>1091</td>\n",
       "    </tr>\n",
       "    <tr>\n",
       "      <th>89800</th>\n",
       "      <td>1</td>\n",
       "      <td>MG</td>\n",
       "      <td>41238</td>\n",
       "      <td>BELO HORIZONTE</td>\n",
       "      <td>540</td>\n",
       "      <td>CORONEL LACERDA</td>\n",
       "      <td>1003</td>\n",
       "    </tr>\n",
       "    <tr>\n",
       "      <th>89801</th>\n",
       "      <td>1</td>\n",
       "      <td>MG</td>\n",
       "      <td>41238</td>\n",
       "      <td>BELO HORIZONTE</td>\n",
       "      <td>540</td>\n",
       "      <td>CORONEL LACERDA</td>\n",
       "      <td>1552</td>\n",
       "    </tr>\n",
       "    <tr>\n",
       "      <th>89855</th>\n",
       "      <td>1</td>\n",
       "      <td>MG</td>\n",
       "      <td>41238</td>\n",
       "      <td>BELO HORIZONTE</td>\n",
       "      <td>540</td>\n",
       "      <td>CORONEL LACERDA</td>\n",
       "      <td>1670</td>\n",
       "    </tr>\n",
       "  </tbody>\n",
       "</table>\n",
       "<p>38142 rows × 7 columns</p>\n",
       "</div>"
      ],
      "text/plain": [
       "       NR_TURNO SG_UF  CD_MUNICIPIO    NM_MUNICIPIO  NR_CANDIDATO  \\\n",
       "90017         1    MG         41238  BELO HORIZONTE          4307   \n",
       "90026         1    MG         41238  BELO HORIZONTE          4307   \n",
       "90039         1    MG         41238  BELO HORIZONTE          4307   \n",
       "90307         1    MG         41238  BELO HORIZONTE          4307   \n",
       "90313         1    MG         41238  BELO HORIZONTE          4307   \n",
       "...         ...   ...           ...             ...           ...   \n",
       "89795         1    MG         41238  BELO HORIZONTE           540   \n",
       "89797         1    MG         41238  BELO HORIZONTE           540   \n",
       "89800         1    MG         41238  BELO HORIZONTE           540   \n",
       "89801         1    MG         41238  BELO HORIZONTE           540   \n",
       "89855         1    MG         41238  BELO HORIZONTE           540   \n",
       "\n",
       "      NM_URNA_CANDIDATO  QT_VOTOS_NOMINAIS  \n",
       "90017     GUSTAVO RIANI                 30  \n",
       "90026     GUSTAVO RIANI                 36  \n",
       "90039     GUSTAVO RIANI                103  \n",
       "90307     GUSTAVO RIANI                 58  \n",
       "90313     GUSTAVO RIANI                 37  \n",
       "...                 ...                ...  \n",
       "89795   CORONEL LACERDA                546  \n",
       "89797   CORONEL LACERDA               1091  \n",
       "89800   CORONEL LACERDA               1003  \n",
       "89801   CORONEL LACERDA               1552  \n",
       "89855   CORONEL LACERDA               1670  \n",
       "\n",
       "[38142 rows x 7 columns]"
      ]
     },
     "execution_count": 33,
     "metadata": {},
     "output_type": "execute_result"
    }
   ],
   "source": [
    "# Os dados estão separados por municipio/zona\n",
    "# Municipios pequenos normalmente tem apenas 1 zona eleitoral\n",
    "# mas municipios maiores podem ter várias zonas eleitorias\n",
    "\n",
    "# Vamos verificar Belo Horizonte\n",
    "df_votacao[df_votacao['NM_MUNICIPIO'] == 'BELO HORIZONTE']"
   ]
  },
  {
   "cell_type": "code",
   "execution_count": 34,
   "id": "6350b997",
   "metadata": {},
   "outputs": [
    {
     "data": {
      "text/html": [
       "<div>\n",
       "<style scoped>\n",
       "    .dataframe tbody tr th:only-of-type {\n",
       "        vertical-align: middle;\n",
       "    }\n",
       "\n",
       "    .dataframe tbody tr th {\n",
       "        vertical-align: top;\n",
       "    }\n",
       "\n",
       "    .dataframe thead th {\n",
       "        text-align: right;\n",
       "    }\n",
       "</style>\n",
       "<table border=\"1\" class=\"dataframe\">\n",
       "  <thead>\n",
       "    <tr style=\"text-align: right;\">\n",
       "      <th></th>\n",
       "      <th>SG_UF</th>\n",
       "      <th>CD_MUNICIPIO</th>\n",
       "      <th>NM_MUNICIPIO</th>\n",
       "      <th>NR_CANDIDATO</th>\n",
       "      <th>NM_URNA_CANDIDATO</th>\n",
       "      <th>QT_VOTOS_NOMINAIS</th>\n",
       "    </tr>\n",
       "  </thead>\n",
       "  <tbody>\n",
       "    <tr>\n",
       "      <th>0</th>\n",
       "      <td>SP</td>\n",
       "      <td>71072</td>\n",
       "      <td>SÃO PAULO</td>\n",
       "      <td>7777</td>\n",
       "      <td>PAULINHO DA FORÇA</td>\n",
       "      <td>67</td>\n",
       "    </tr>\n",
       "    <tr>\n",
       "      <th>1</th>\n",
       "      <td>SP</td>\n",
       "      <td>66397</td>\n",
       "      <td>LIMEIRA</td>\n",
       "      <td>7777</td>\n",
       "      <td>PAULINHO DA FORÇA</td>\n",
       "      <td>15</td>\n",
       "    </tr>\n",
       "    <tr>\n",
       "      <th>2</th>\n",
       "      <td>SP</td>\n",
       "      <td>71072</td>\n",
       "      <td>SÃO PAULO</td>\n",
       "      <td>7777</td>\n",
       "      <td>PAULINHO DA FORÇA</td>\n",
       "      <td>215</td>\n",
       "    </tr>\n",
       "    <tr>\n",
       "      <th>3</th>\n",
       "      <td>SP</td>\n",
       "      <td>61018</td>\n",
       "      <td>ADAMANTINA</td>\n",
       "      <td>7777</td>\n",
       "      <td>PAULINHO DA FORÇA</td>\n",
       "      <td>12</td>\n",
       "    </tr>\n",
       "    <tr>\n",
       "      <th>4</th>\n",
       "      <td>SP</td>\n",
       "      <td>69752</td>\n",
       "      <td>RINCÃO</td>\n",
       "      <td>7777</td>\n",
       "      <td>PAULINHO DA FORÇA</td>\n",
       "      <td>6</td>\n",
       "    </tr>\n",
       "  </tbody>\n",
       "</table>\n",
       "</div>"
      ],
      "text/plain": [
       "  SG_UF  CD_MUNICIPIO NM_MUNICIPIO  NR_CANDIDATO  NM_URNA_CANDIDATO  \\\n",
       "0    SP         71072    SÃO PAULO          7777  PAULINHO DA FORÇA   \n",
       "1    SP         66397      LIMEIRA          7777  PAULINHO DA FORÇA   \n",
       "2    SP         71072    SÃO PAULO          7777  PAULINHO DA FORÇA   \n",
       "3    SP         61018   ADAMANTINA          7777  PAULINHO DA FORÇA   \n",
       "4    SP         69752       RINCÃO          7777  PAULINHO DA FORÇA   \n",
       "\n",
       "   QT_VOTOS_NOMINAIS  \n",
       "0                 67  \n",
       "1                 15  \n",
       "2                215  \n",
       "3                 12  \n",
       "4                  6  "
      ]
     },
     "execution_count": 34,
     "metadata": {},
     "output_type": "execute_result"
    }
   ],
   "source": [
    "# Eliminar algumas colunas do dataframe que não serão utilizadas\n",
    "df_votacao = df_votacao[['SG_UF', 'CD_MUNICIPIO', 'NM_MUNICIPIO', 'NR_CANDIDATO',\n",
    "                        'NM_URNA_CANDIDATO', 'QT_VOTOS_NOMINAIS']]\n",
    "\n",
    "df_votacao.head()"
   ]
  },
  {
   "cell_type": "code",
   "execution_count": 35,
   "id": "b252af91",
   "metadata": {},
   "outputs": [
    {
     "data": {
      "text/html": [
       "<div>\n",
       "<style scoped>\n",
       "    .dataframe tbody tr th:only-of-type {\n",
       "        vertical-align: middle;\n",
       "    }\n",
       "\n",
       "    .dataframe tbody tr th {\n",
       "        vertical-align: top;\n",
       "    }\n",
       "\n",
       "    .dataframe thead th {\n",
       "        text-align: right;\n",
       "    }\n",
       "</style>\n",
       "<table border=\"1\" class=\"dataframe\">\n",
       "  <thead>\n",
       "    <tr style=\"text-align: right;\">\n",
       "      <th></th>\n",
       "      <th></th>\n",
       "      <th></th>\n",
       "      <th></th>\n",
       "      <th></th>\n",
       "      <th>QT_VOTOS_NOMINAIS</th>\n",
       "    </tr>\n",
       "    <tr>\n",
       "      <th>SG_UF</th>\n",
       "      <th>CD_MUNICIPIO</th>\n",
       "      <th>NM_MUNICIPIO</th>\n",
       "      <th>NR_CANDIDATO</th>\n",
       "      <th>NM_URNA_CANDIDATO</th>\n",
       "      <th></th>\n",
       "    </tr>\n",
       "  </thead>\n",
       "  <tbody>\n",
       "    <tr>\n",
       "      <th rowspan=\"5\" valign=\"top\">AC</th>\n",
       "      <th rowspan=\"5\" valign=\"top\">1007</th>\n",
       "      <th rowspan=\"5\" valign=\"top\">BUJARI</th>\n",
       "      <th>11</th>\n",
       "      <th>GLADSON CAMELI</th>\n",
       "      <td>4024</td>\n",
       "    </tr>\n",
       "    <tr>\n",
       "      <th>12</th>\n",
       "      <th>CIRO GOMES</th>\n",
       "      <td>301</td>\n",
       "    </tr>\n",
       "    <tr>\n",
       "      <th rowspan=\"2\" valign=\"top\">13</th>\n",
       "      <th>FERNANDO HADDAD</th>\n",
       "      <td>2408</td>\n",
       "    </tr>\n",
       "    <tr>\n",
       "      <th>MARCUS ALEXANDRE</th>\n",
       "      <td>1990</td>\n",
       "    </tr>\n",
       "    <tr>\n",
       "      <th>15</th>\n",
       "      <th>HENRIQUE MEIRELLES</th>\n",
       "      <td>131</td>\n",
       "    </tr>\n",
       "    <tr>\n",
       "      <th>...</th>\n",
       "      <th>...</th>\n",
       "      <th>...</th>\n",
       "      <th>...</th>\n",
       "      <th>...</th>\n",
       "      <td>...</td>\n",
       "    </tr>\n",
       "    <tr>\n",
       "      <th rowspan=\"5\" valign=\"top\">TO</th>\n",
       "      <th rowspan=\"5\" valign=\"top\">96997</th>\n",
       "      <th rowspan=\"5\" valign=\"top\">BARROLÂNDIA</th>\n",
       "      <th>90000</th>\n",
       "      <th>EDUARDO MAIA</th>\n",
       "      <td>2</td>\n",
       "    </tr>\n",
       "    <tr>\n",
       "      <th>90090</th>\n",
       "      <th>PROFESSOR JUNIOR GEO</th>\n",
       "      <td>15</td>\n",
       "    </tr>\n",
       "    <tr>\n",
       "      <th>90111</th>\n",
       "      <th>PASTOR HUEDER NOLETO</th>\n",
       "      <td>1</td>\n",
       "    </tr>\n",
       "    <tr>\n",
       "      <th>90123</th>\n",
       "      <th>EDINHO</th>\n",
       "      <td>0</td>\n",
       "    </tr>\n",
       "    <tr>\n",
       "      <th>90690</th>\n",
       "      <th>RONIVON MACIEL</th>\n",
       "      <td>0</td>\n",
       "    </tr>\n",
       "  </tbody>\n",
       "</table>\n",
       "<p>7563055 rows × 1 columns</p>\n",
       "</div>"
      ],
      "text/plain": [
       "                                                                   QT_VOTOS_NOMINAIS\n",
       "SG_UF CD_MUNICIPIO NM_MUNICIPIO NR_CANDIDATO NM_URNA_CANDIDATO                      \n",
       "AC    1007         BUJARI       11           GLADSON CAMELI                     4024\n",
       "                                12           CIRO GOMES                          301\n",
       "                                13           FERNANDO HADDAD                    2408\n",
       "                                             MARCUS ALEXANDRE                   1990\n",
       "                                15           HENRIQUE MEIRELLES                  131\n",
       "...                                                                              ...\n",
       "TO    96997        BARROLÂNDIA  90000        EDUARDO MAIA                          2\n",
       "                                90090        PROFESSOR JUNIOR GEO                 15\n",
       "                                90111        PASTOR HUEDER NOLETO                  1\n",
       "                                90123        EDINHO                                0\n",
       "                                90690        RONIVON MACIEL                        0\n",
       "\n",
       "[7563055 rows x 1 columns]"
      ]
     },
     "execution_count": 35,
     "metadata": {},
     "output_type": "execute_result"
    }
   ],
   "source": [
    "# Precisamos agregar os dados por municipio e candidato\n",
    "df_votacao.groupby(['SG_UF', 'CD_MUNICIPIO', 'NM_MUNICIPIO', 'NR_CANDIDATO', 'NM_URNA_CANDIDATO']).sum()"
   ]
  },
  {
   "cell_type": "code",
   "execution_count": 36,
   "id": "95867618",
   "metadata": {},
   "outputs": [
    {
     "data": {
      "text/html": [
       "<div>\n",
       "<style scoped>\n",
       "    .dataframe tbody tr th:only-of-type {\n",
       "        vertical-align: middle;\n",
       "    }\n",
       "\n",
       "    .dataframe tbody tr th {\n",
       "        vertical-align: top;\n",
       "    }\n",
       "\n",
       "    .dataframe thead th {\n",
       "        text-align: right;\n",
       "    }\n",
       "</style>\n",
       "<table border=\"1\" class=\"dataframe\">\n",
       "  <thead>\n",
       "    <tr style=\"text-align: right;\">\n",
       "      <th></th>\n",
       "      <th>SG_UF</th>\n",
       "      <th>CD_MUNICIPIO</th>\n",
       "      <th>NM_MUNICIPIO</th>\n",
       "      <th>NR_CANDIDATO</th>\n",
       "      <th>NM_URNA_CANDIDATO</th>\n",
       "      <th>QT_VOTOS_NOMINAIS</th>\n",
       "    </tr>\n",
       "  </thead>\n",
       "  <tbody>\n",
       "    <tr>\n",
       "      <th>926598</th>\n",
       "      <td>GO</td>\n",
       "      <td>94935</td>\n",
       "      <td>NOVA AURORA</td>\n",
       "      <td>27555</td>\n",
       "      <td>GLAUCIANE VALVERDE</td>\n",
       "      <td>0</td>\n",
       "    </tr>\n",
       "    <tr>\n",
       "      <th>5447010</th>\n",
       "      <td>SP</td>\n",
       "      <td>61492</td>\n",
       "      <td>APARECIDA</td>\n",
       "      <td>31660</td>\n",
       "      <td>HELENA GOMES</td>\n",
       "      <td>0</td>\n",
       "    </tr>\n",
       "    <tr>\n",
       "      <th>1088904</th>\n",
       "      <td>MA</td>\n",
       "      <td>8320</td>\n",
       "      <td>SÃO JOÃO DO PARAÍSO</td>\n",
       "      <td>33888</td>\n",
       "      <td>ORLEANS CARVALHO</td>\n",
       "      <td>0</td>\n",
       "    </tr>\n",
       "    <tr>\n",
       "      <th>2557064</th>\n",
       "      <td>MG</td>\n",
       "      <td>50750</td>\n",
       "      <td>QUELUZITO</td>\n",
       "      <td>1520</td>\n",
       "      <td>MAÍRA DOS SANTOS CARLOS</td>\n",
       "      <td>0</td>\n",
       "    </tr>\n",
       "  </tbody>\n",
       "</table>\n",
       "</div>"
      ],
      "text/plain": [
       "        SG_UF  CD_MUNICIPIO         NM_MUNICIPIO  NR_CANDIDATO  \\\n",
       "926598     GO         94935          NOVA AURORA         27555   \n",
       "5447010    SP         61492            APARECIDA         31660   \n",
       "1088904    MA          8320  SÃO JOÃO DO PARAÍSO         33888   \n",
       "2557064    MG         50750            QUELUZITO          1520   \n",
       "\n",
       "               NM_URNA_CANDIDATO  QT_VOTOS_NOMINAIS  \n",
       "926598        GLAUCIANE VALVERDE                  0  \n",
       "5447010             HELENA GOMES                  0  \n",
       "1088904         ORLEANS CARVALHO                  0  \n",
       "2557064  MAÍRA DOS SANTOS CARLOS                  0  "
      ]
     },
     "execution_count": 36,
     "metadata": {},
     "output_type": "execute_result"
    }
   ],
   "source": [
    "# Fazer o groupby, reindexar o indice, vai salvar isso em um dataframe\n",
    "df_votacao = df_votacao.groupby(['SG_UF', 'CD_MUNICIPIO', 'NM_MUNICIPIO', 'NR_CANDIDATO', 'NM_URNA_CANDIDATO']).sum().reset_index()\n",
    "\n",
    "df_votacao.sample(4)"
   ]
  },
  {
   "cell_type": "code",
   "execution_count": null,
   "id": "89a71079",
   "metadata": {},
   "outputs": [],
   "source": [
    "# Vamos verificar novamente a cidade de Belo Horizonte\n",
    "df_votacao[df_votacao['NM_MUNICIPIO'] == 'BELO HORIZONTE']"
   ]
  },
  {
   "cell_type": "code",
   "execution_count": null,
   "id": "73666bd5",
   "metadata": {},
   "outputs": [],
   "source": [
    "# Ordenar o dataframe pela quantidade de votos e depois deixar apenas o primeiro\n",
    "# registro de cada municipio\n",
    "df_votacao.sort_values(by='QT_VOTOS_NOMINAIS', ascending=False).head(10)"
   ]
  },
  {
   "cell_type": "code",
   "execution_count": null,
   "id": "233339dc",
   "metadata": {},
   "outputs": [],
   "source": [
    "# Vamos ordenar\n",
    "df_votacao.sort_values(by='QT_VOTOS_NOMINAIS', ascending=False, inplace=True)\n",
    "\n",
    "# dropar as linhas duplicadas, mantendo a primeira\n",
    "df_votacao.drop_duplicates(subset='CD_MUNICIPIO', keep='first', inplace=True)\n",
    "\n",
    "df_votacao.head(10)"
   ]
  },
  {
   "cell_type": "code",
   "execution_count": null,
   "id": "fd96c703",
   "metadata": {},
   "outputs": [],
   "source": [
    "# Vamos verificar novamente a cidade de Belo Horizonte\n",
    "df_votacao[df_votacao['NM_MUNICIPIO'] == 'BELO HORIZONTE']"
   ]
  },
  {
   "cell_type": "code",
   "execution_count": null,
   "id": "d5f7c804",
   "metadata": {},
   "outputs": [],
   "source": [
    "# Agora vamos criar uma coluna representando o resultado da eleição naquele municipio\n",
    "# sendo que o Resultado é True se o candidato Bolsonaro venceu naquele municipio\n",
    "# e False em caso contrário\n",
    "df_votacao['RESULTADO'] = df_votacao['NR_CANDIDATO'].apply(lambda x: x == 17)"
   ]
  },
  {
   "cell_type": "code",
   "execution_count": null,
   "id": "8aa19829",
   "metadata": {},
   "outputs": [],
   "source": [
    "# Verificando o resultado\n",
    "df_votacao.head(10)"
   ]
  },
  {
   "cell_type": "code",
   "execution_count": null,
   "id": "4682ad83",
   "metadata": {},
   "outputs": [],
   "source": [
    "# Mostrando alguns valores do dataframe do geopandas\n",
    "df_mapa.sample(3)"
   ]
  },
  {
   "cell_type": "code",
   "execution_count": null,
   "id": "5d445396",
   "metadata": {},
   "outputs": [],
   "source": [
    "# tentando encontrar o municipio pelo código\n",
    "df_votacao[df_votacao['CD_MUNICIPIO'] == 3156700]"
   ]
  },
  {
   "cell_type": "code",
   "execution_count": null,
   "id": "20cb1af8",
   "metadata": {},
   "outputs": [],
   "source": [
    "# Porque não podemos usar o nome do municipio para juntar\n",
    "df_votacao[df_votacao['NM_MUNICIPIO'] == 'OURO BRANCO']"
   ]
  },
  {
   "cell_type": "code",
   "execution_count": null,
   "id": "5d2608e8",
   "metadata": {},
   "outputs": [],
   "source": [
    "# Recuperar a tabela de correspondencia entre IBGE e TSE\n",
    "# direto do github do Estadão\n",
    "link = 'https://raw.githubusercontent.com/estadao/como-votou-sua-vizinhanca/master/data/votos/correspondencia-tse-ibge.csv'\n",
    "\n",
    "df_equivalencia = pd.read_csv(link)\n",
    "\n",
    "df_equivalencia.head()"
   ]
  },
  {
   "cell_type": "code",
   "execution_count": null,
   "id": "da998ab0",
   "metadata": {},
   "outputs": [],
   "source": [
    "# Vamos preparar os dataframes"
   ]
  },
  {
   "cell_type": "code",
   "execution_count": null,
   "id": "396c6a31",
   "metadata": {},
   "outputs": [],
   "source": [
    "# Vamos reindexar o dataframe de votação pelo código do TSE\n",
    "df_vot_novo = df_votacao.copy()\n",
    "\n",
    "df_vot_novo.set_index('CD_MUNICIPIO', drop=False, inplace=True)\n",
    "\n",
    "df_vot_novo.head()"
   ]
  },
  {
   "cell_type": "code",
   "execution_count": null,
   "id": "de158aa5",
   "metadata": {},
   "outputs": [],
   "source": [
    "# Vamos reindexar o dataframe de Equivalencia pelo Código do TSE\n",
    "df_equi_novo = df_equivalencia.copy()\n",
    "\n",
    "df_equi_novo.set_index('COD_TSE', drop=False, inplace=True)\n",
    "\n",
    "df_equi_novo.head()"
   ]
  },
  {
   "cell_type": "code",
   "execution_count": null,
   "id": "435f88f1",
   "metadata": {},
   "outputs": [],
   "source": [
    "# Verificando o tamanho dos dataframes\n",
    "df_vot_novo.info()"
   ]
  },
  {
   "cell_type": "code",
   "execution_count": null,
   "id": "e7ef05ad",
   "metadata": {},
   "outputs": [],
   "source": [
    "df_equi_novo.info()"
   ]
  },
  {
   "cell_type": "code",
   "execution_count": null,
   "id": "6cee9ef0",
   "metadata": {},
   "outputs": [],
   "source": [
    "# Criando um novo dataframe com base no merge de Votação e Equivalencia\n",
    "df_vot_equi = df_vot_novo.join(df_equi_novo)\n",
    "\n",
    "df_vot_equi.head()"
   ]
  },
  {
   "cell_type": "code",
   "execution_count": null,
   "id": "f27c645b",
   "metadata": {},
   "outputs": [],
   "source": [
    "# Vamos juntar o dataframe do GeoPandas com o dataframe Votação/Equivalência"
   ]
  },
  {
   "cell_type": "code",
   "execution_count": null,
   "id": "4ef9b1e0",
   "metadata": {},
   "outputs": [],
   "source": [
    "df_vot_equi.info()"
   ]
  },
  {
   "cell_type": "code",
   "execution_count": null,
   "id": "8af03f88",
   "metadata": {},
   "outputs": [],
   "source": [
    "df_mapa.info()"
   ]
  },
  {
   "cell_type": "code",
   "execution_count": null,
   "id": "0af0986c",
   "metadata": {},
   "outputs": [],
   "source": [
    "# Transformar a coluna de codigo de IBGE do dataframe de Votação/Equivalência\n",
    "df_vot_equi['GEOCOD_IBGE'] = df_vot_equi['GEOCOD_IBGE'].astype(str)\n",
    "\n",
    "df_vot_equi.info()"
   ]
  },
  {
   "cell_type": "code",
   "execution_count": null,
   "id": "cd4d0a71",
   "metadata": {},
   "outputs": [],
   "source": [
    "df_mapa.head()"
   ]
  },
  {
   "cell_type": "code",
   "execution_count": null,
   "id": "ffc4827b",
   "metadata": {},
   "outputs": [],
   "source": [
    "# Vamos unificar os indices\n",
    "\n",
    "# Mudando o indice do dataframe de Mapa\n",
    "df_mapa.set_index('CD_GEOCMU', drop=False, inplace=True)"
   ]
  },
  {
   "cell_type": "code",
   "execution_count": null,
   "id": "70bec4a5",
   "metadata": {},
   "outputs": [],
   "source": [
    "# Mudando o indice do dataframe de Votação/Equivalência\n",
    "df_vot_equi.set_index('GEOCOD_IBGE', drop=False, inplace=True)"
   ]
  },
  {
   "cell_type": "code",
   "execution_count": null,
   "id": "cbf2c64b",
   "metadata": {},
   "outputs": [],
   "source": [
    "# Vamos juntar os dataframes\n",
    "df_mapa_novo = df_mapa.join(df_vot_equi)\n",
    "\n",
    "df_mapa_novo.head().T"
   ]
  },
  {
   "cell_type": "code",
   "execution_count": null,
   "id": "04913fd5",
   "metadata": {},
   "outputs": [],
   "source": [
    "# Verificando o tamanho do mapa novo\n",
    "df_mapa_novo.info()"
   ]
  },
  {
   "cell_type": "code",
   "execution_count": null,
   "id": "7aac2fff",
   "metadata": {},
   "outputs": [],
   "source": [
    "# Vamos descobrir os 2 municipios a mais no mapa\n",
    "df_mapa_novo[df_mapa_novo['NR_CANDIDATO'].isnull()]"
   ]
  },
  {
   "cell_type": "code",
   "execution_count": null,
   "id": "45113769",
   "metadata": {},
   "outputs": [],
   "source": [
    "# Matar a coluna ajuste\n",
    "df_mapa_novo.drop(columns=['AJUSTE'], inplace=True)"
   ]
  },
  {
   "cell_type": "code",
   "execution_count": null,
   "id": "08699d77",
   "metadata": {},
   "outputs": [],
   "source": [
    "# Vamos eliminar a informação das duas lagoas do RS\n",
    "df_mapa_novo.dropna(inplace=True)"
   ]
  },
  {
   "cell_type": "code",
   "execution_count": null,
   "id": "4038c5b9",
   "metadata": {},
   "outputs": [],
   "source": [
    "df_mapa_novo.info()"
   ]
  },
  {
   "cell_type": "code",
   "execution_count": null,
   "id": "6bbc0095",
   "metadata": {},
   "outputs": [],
   "source": [
    "# Vamos desenhar o mapa\n",
    "\n",
    "# Criar a referência para o código de cor (False/0 = red, True/1 = green)\n",
    "from matplotlib.colors import ListedColormap\n",
    "\n",
    "cmap = ListedColormap(['red', 'green'])\n",
    "\n",
    "# Desenhando o mapa\n",
    "fig, ax = plt.subplots(1, figsize=(12, 12))\n",
    "\n",
    "ax = df_mapa_novo.plot(column='RESULTADO', cmap=cmap, legend=True, linewidth=0.1, ax=ax,\n",
    "                      edgecolor='grey')\n",
    "\n",
    "# Escondendo o eixos\n",
    "ax.set_axis_off()\n",
    "\n",
    "# Colocando um título\n",
    "ax.set_title('Resultado Eleição 2018 por Município / 2º Turno', fontdict={'fontsize': '25', 'fontweight': '3'})\n",
    "\n",
    "# Criando uma nota do rodapé\n",
    "ax.annotate('Fonte: IBGE, 2015; TSE, 2019; Jornal o Estado de São Paulo, 2019',\n",
    "    xy=(0.1, 0.08), xycoords='figure fraction', horizontalalignment='left',\n",
    "    verticalalignment='top', fontsize=10, color='#555555')\n",
    "\n",
    "# Alterando a legenda\n",
    "leg = ax.get_legend()\n",
    "leg.get_texts()[0].set_text('Fernando Haddad')\n",
    "leg.get_texts()[1].set_text('Jair Bolsonaro')\n",
    "\n",
    "plt.show()"
   ]
  }
 ],
 "metadata": {
  "kernelspec": {
   "display_name": ".venv",
   "language": "python",
   "name": "python3"
  },
  "language_info": {
   "codemirror_mode": {
    "name": "ipython",
    "version": 3
   },
   "file_extension": ".py",
   "mimetype": "text/x-python",
   "name": "python",
   "nbconvert_exporter": "python",
   "pygments_lexer": "ipython3",
   "version": "3.11.5"
  }
 },
 "nbformat": 4,
 "nbformat_minor": 5
}
